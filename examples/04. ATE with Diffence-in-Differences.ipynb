{
 "cells": [
  {
   "attachments": {},
   "cell_type": "markdown",
   "metadata": {},
   "source": [
    "## Difference-in-Differences\n",
    "\n",
    "TODO"
   ]
  },
  {
   "attachments": {},
   "cell_type": "markdown",
   "metadata": {},
   "source": [
    "### Libraries"
   ]
  },
  {
   "cell_type": "code",
   "execution_count": null,
   "metadata": {},
   "outputs": [],
   "source": [
    "import numpy as np\n",
    "import pandas as pd\n",
    "import scipy.stats as ss\n",
    "import statsmodels.formula.api as smf\n",
    "from causalinference import CausalModel\n",
    "\n",
    "from matplotlib import style\n",
    "import matplotlib.pyplot as plt\n",
    "import seaborn as sns\n",
    "style.use(\"fivethirtyeight\")\n",
    "\n",
    "import warnings\n",
    "warnings.filterwarnings(\"ignore\")"
   ]
  },
  {
   "attachments": {},
   "cell_type": "markdown",
   "metadata": {},
   "source": [
    "### Data\n",
    "\n",
    "For the sake of simplicity and learning, we are going to use an adapted version of a well-known dataset from Card and Krueger (1994).\n",
    "\n",
    "The aim is to estimate the **causal effect of an increase in the state minimum wage on the employment**. On April 1st, 1992, New Jersey raised the state minimum wage from $4.25 to $5.05, while the minimum wage in Pennsylvania stays the same at $4.25.\n",
    "\n",
    "Since both states are geographically close to each other and the demographics are similar, we can use data on both of them, in order to answer the causal query.\n",
    "\n",
    "Variables:\n",
    "- `state` is a flag: 1 for New Jersey (treatment), 0 for Pennsylvania (control).\n",
    "- `total_emp_feb` is the total number of employees of sampled restaurantes, in February 1992 - before the increase.\n",
    "- `total_emp_nov ` is the total number of employees of sampled restaurantes, in November 1992 - after the increase."
   ]
  },
  {
   "cell_type": "code",
   "execution_count": null,
   "metadata": {},
   "outputs": [],
   "source": [
    "df = pd.read_csv(\"../data/employment.csv\",)\n",
    "df.head()"
   ]
  },
  {
   "attachments": {},
   "cell_type": "markdown",
   "metadata": {},
   "source": [
    "We need to adapt the dataset a little bit, in order to reflect the relationship in time:"
   ]
  },
  {
   "cell_type": "code",
   "execution_count": null,
   "metadata": {},
   "outputs": [],
   "source": [
    "df = pd.concat([\n",
    "    df.rename(columns={\"total_emp_feb\": \"emp\"}).assign(after_increase=0).drop(columns=[\"total_emp_nov\"]),\n",
    "    df.rename(columns={\"total_emp_nov\": \"emp\"}).assign(after_increase=1).drop(columns=[\"total_emp_feb\"]),\n",
    "], axis=0)\n",
    "df.head()"
   ]
  },
  {
   "attachments": {},
   "cell_type": "markdown",
   "metadata": {},
   "source": [
    "Some basic definitions:"
   ]
  },
  {
   "cell_type": "code",
   "execution_count": null,
   "metadata": {},
   "outputs": [],
   "source": [
    "Y = \"emp\"\n",
    "T = \"state\"\n",
    "TIME = \"after_increase\""
   ]
  },
  {
   "cell_type": "code",
   "execution_count": null,
   "metadata": {},
   "outputs": [],
   "source": []
  },
  {
   "attachments": {},
   "cell_type": "markdown",
   "metadata": {},
   "source": [
    "### Theoretical Approach Step-By-Step\n",
    "\n",
    "Let's apply what we've seen in the theoretical introduction."
   ]
  },
  {
   "cell_type": "code",
   "execution_count": null,
   "metadata": {},
   "outputs": [],
   "source": []
  },
  {
   "attachments": {},
   "cell_type": "markdown",
   "metadata": {},
   "source": [
    "### Python package: `causalinference`\n",
    "\n",
    "Let's take a look at how we can accomplish the same task by using a thirdy party library."
   ]
  },
  {
   "cell_type": "code",
   "execution_count": null,
   "metadata": {},
   "outputs": [],
   "source": [
    "model = CausalModel(\n",
    "    Y=df[Y].values.squeeze(),\n",
    "    D=df[T].values.squeeze(),\n",
    "    X=df[X].values,\n",
    ")\n",
    "model.est_via_matching(matches=1, bias_adj=True)\n",
    "model.estimates"
   ]
  },
  {
   "attachments": {},
   "cell_type": "markdown",
   "metadata": {},
   "source": [
    "### Our approach"
   ]
  },
  {
   "cell_type": "code",
   "execution_count": null,
   "metadata": {},
   "outputs": [],
   "source": [
    "# from causal_inference.linear import DiffInDiffEstimator"
   ]
  },
  {
   "cell_type": "code",
   "execution_count": null,
   "metadata": {},
   "outputs": [],
   "source": [
    "# m = DiffInDiffEstimator(\n",
    "#     data=df,\n",
    "#     outcome=Y,\n",
    "#     treatment=T,\n",
    "#     time_dimension=TIMEm\n",
    "# )\n",
    "# m.fit()"
   ]
  },
  {
   "cell_type": "code",
   "execution_count": null,
   "metadata": {},
   "outputs": [],
   "source": [
    "# m.estimate_ate(plot_result=True)"
   ]
  }
 ],
 "metadata": {
  "kernelspec": {
   "display_name": ".causal-inference",
   "language": "python",
   "name": "python3"
  },
  "language_info": {
   "codemirror_mode": {
    "name": "ipython",
    "version": 3
   },
   "file_extension": ".py",
   "mimetype": "text/x-python",
   "name": "python",
   "nbconvert_exporter": "python",
   "pygments_lexer": "ipython3",
   "version": "3.11.3"
  },
  "orig_nbformat": 4
 },
 "nbformat": 4,
 "nbformat_minor": 2
}
