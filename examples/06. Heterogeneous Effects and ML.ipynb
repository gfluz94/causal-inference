{
 "cells": [
  {
   "attachments": {},
   "cell_type": "markdown",
   "metadata": {},
   "source": [
    "## Heterogeneous Treatment Effects\n",
    "\n",
    "In the first few notebook examples, we were mostly concerned with the estimation of **average** treatment effects, in order to determine whether treatment is overall effective or not. That is totally fine from a perspective of understanding the world and how it operates under the hood. However, intuitively we know that some treated individuals won't have the same response to treatment. In fact, some individuals - regardless of being treated or not - will have a stronger response to treatment.\n",
    "\n",
    "Hence, it makes sense for us, especially in business contexts, to find the individuals that will respond better to a given treatment, in order to leverage profitability, for instance. Also, when we determine ATE, we are talking about a population of millions of customers. Therefore, it can be unfeasible, from a budget limititation's standpoint, to treate every single customer... What we can do is find the top customers and treat them preferrably.\n",
    "\n",
    "But how can we do that?\n",
    "\n",
    "The anwers lies in **Machine Learning**!! We have been used to a passive approach to ML, where we simply predict most profitable customers and we stop there. However, we can leverage predictive models in a more **active approach**, in order to predict which customers should receive the treatment and then treat them in the specific business context.\n",
    "\n",
    "In a nutshell, the question we want to answer has a slightly different form now: **Who do we treat?**"
   ]
  },
  {
   "attachments": {},
   "cell_type": "markdown",
   "metadata": {},
   "source": [
    "### Libraries"
   ]
  },
  {
   "cell_type": "code",
   "execution_count": 1,
   "metadata": {},
   "outputs": [],
   "source": [
    "import numpy as np\n",
    "import pandas as pd\n",
    "from matplotlib import style\n",
    "import matplotlib.pyplot as plt\n",
    "import seaborn as sns\n",
    "style.use(\"fivethirtyeight\")\n",
    "\n",
    "from lightgbm import LGBMRegressor"
   ]
  },
  {
   "cell_type": "code",
   "execution_count": null,
   "metadata": {},
   "outputs": [],
   "source": []
  },
  {
   "cell_type": "code",
   "execution_count": null,
   "metadata": {},
   "outputs": [],
   "source": []
  },
  {
   "cell_type": "code",
   "execution_count": null,
   "metadata": {},
   "outputs": [],
   "source": []
  }
 ],
 "metadata": {
  "kernelspec": {
   "display_name": ".causal-inference",
   "language": "python",
   "name": "python3"
  },
  "language_info": {
   "codemirror_mode": {
    "name": "ipython",
    "version": 3
   },
   "file_extension": ".py",
   "mimetype": "text/x-python",
   "name": "python",
   "nbconvert_exporter": "python",
   "pygments_lexer": "ipython3",
   "version": "3.11.3"
  },
  "orig_nbformat": 4
 },
 "nbformat": 4,
 "nbformat_minor": 2
}
